{
 "cells": [
  {
   "cell_type": "code",
   "execution_count": 2,
   "id": "9c41de45",
   "metadata": {},
   "outputs": [],
   "source": [
    "import pandas as pd\n",
    "import numpy as np\n",
    "import glob\n",
    "pubfiles = []\n",
    "for file in glob.glob(\"*.csv\"):\n",
    "    pubfiles.append(pd.read_csv(file))"
   ]
  },
  {
   "cell_type": "code",
   "execution_count": 4,
   "id": "ae0783df",
   "metadata": {},
   "outputs": [],
   "source": [
    "df = pd.concat(pubfiles)"
   ]
  },
  {
   "cell_type": "code",
   "execution_count": 5,
   "id": "ce444fe9",
   "metadata": {},
   "outputs": [],
   "source": [
    "df = df.drop_duplicates(subset = ['Authors','Title','Year']).sort_values(by = 'Year', ascending = False).reset_index(drop = True)\n",
    "df = df.rename(columns = {'Source title':'Journal',\n",
    "                          'Publication Stage':'PublicationStage',\n",
    "                         'Document Type':'DocumentType'})\n",
    "\n",
    "\n"
   ]
  },
  {
   "cell_type": "code",
   "execution_count": 8,
   "id": "b2984758",
   "metadata": {},
   "outputs": [],
   "source": [
    "df.to_json('pubs.json', orient='records')"
   ]
  }
 ],
 "metadata": {
  "kernelspec": {
   "display_name": "Python 3 (ipykernel)",
   "language": "python",
   "name": "python3"
  },
  "language_info": {
   "codemirror_mode": {
    "name": "ipython",
    "version": 3
   },
   "file_extension": ".py",
   "mimetype": "text/x-python",
   "name": "python",
   "nbconvert_exporter": "python",
   "pygments_lexer": "ipython3",
   "version": "3.10.6"
  }
 },
 "nbformat": 4,
 "nbformat_minor": 5
}
